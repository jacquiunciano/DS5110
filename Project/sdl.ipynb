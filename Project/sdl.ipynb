{
 "cells": [
  {
   "cell_type": "code",
   "execution_count": null,
   "id": "28b2f374-6c6e-48dd-bf30-d1099a3841fc",
   "metadata": {
    "tags": []
   },
   "outputs": [],
   "source": [
    "import pandas as pd\n",
    "import numpy as np\n",
    "import time\n",
    "from pyspark.sql.functions import when"
   ]
  },
  {
   "cell_type": "code",
   "execution_count": null,
   "id": "35f2a915-cfe1-476b-b803-f601943fa87d",
   "metadata": {
    "tags": []
   },
   "outputs": [],
   "source": [
    "import findspark as fs\n",
    "fs.init('/home/jdu5sq/spark-3.4.1-bin-hadoop3')\n",
    "fs.find()"
   ]
  },
  {
   "cell_type": "code",
   "execution_count": null,
   "id": "44622151-c84e-4a0f-80cf-d9c5af8bb397",
   "metadata": {
    "tags": []
   },
   "outputs": [],
   "source": [
    "import sparknlp\n",
    "params = {\n",
    "    \"spark.driver.cores\":\"4\",\n",
    "    \"spark.driver.memory\":\"8G\",\n",
    "    \"spark.executor.memory\":\"8G\",\n",
    "    \"spark.master\":\"local[4]\"\n",
    "}\n",
    "spark = sparknlp.start(gpu=True, params=params)"
   ]
  },
  {
   "cell_type": "code",
   "execution_count": null,
   "id": "4ebf78cf-a084-4a50-85f7-a44084017dc9",
   "metadata": {
    "tags": []
   },
   "outputs": [],
   "source": [
    "trainDataset = spark.read \\\n",
    "      .option(\"header\", False) \\\n",
    "      .csv(\"train.csv\")"
   ]
  },
  {
   "cell_type": "code",
   "execution_count": null,
   "id": "f69c51c9-774b-4aab-abe7-902e1c3d45e8",
   "metadata": {
    "tags": []
   },
   "outputs": [],
   "source": [
    "header_names = [\"label\", \"title\", \"text\"]\n",
    "trainDataset = trainDataset.toDF(*header_names)\n",
    "trainDataset = trainDataset.withColumn(\"label\", when(trainDataset[\"label\"] == 2, 1).otherwise(0))"
   ]
  },
  {
   "cell_type": "code",
   "execution_count": null,
   "id": "7bcfaaa0-355c-4e73-a082-47815c479820",
   "metadata": {
    "tags": []
   },
   "outputs": [],
   "source": [
    "trainDataset.show(5)"
   ]
  },
  {
   "cell_type": "code",
   "execution_count": null,
   "id": "f1c49a9e-27ca-41cb-9ccc-5cea910c8803",
   "metadata": {},
   "outputs": [],
   "source": [
    "# Import the required modules and classes\n",
    "from sparknlp.base import DocumentAssembler, Pipeline\n",
    "from sparknlp.annotator import (\n",
    "    UniversalSentenceEncoder,\n",
    "    SentimentDLApproach\n",
    ")"
   ]
  },
  {
   "cell_type": "code",
   "execution_count": null,
   "id": "dc30c45c-14de-440d-9991-97ab4d5956fb",
   "metadata": {
    "tags": []
   },
   "outputs": [],
   "source": [
    "%%time\n",
    "documentAssembler = DocumentAssembler() \\\n",
    "    .setInputCol(\"text\") \\\n",
    "    .setOutputCol(\"document\")\n",
    "\n",
    "useEmbeddings = UniversalSentenceEncoder.pretrained() \\\n",
    "    .setInputCols([\"document\"]) \\\n",
    "    .setOutputCol(\"sentence_embeddings\")\n",
    "\n",
    "sentimentdl = SentimentDLApproach() \\\n",
    "    .setInputCols([\"sentence_embeddings\"]) \\\n",
    "    .setOutputCol(\"sentiment\") \\\n",
    "    .setLabelColumn(\"label\") \\\n",
    "    .setMaxEpochs(5) \\\n",
    "    .setEnableOutputLogs(True)\n",
    "\n",
    "pipeline = Pipeline() \\\n",
    "    .setStages(\n",
    "      [\n",
    "        documentAssembler,\n",
    "        useEmbeddings,\n",
    "        sentimentdl\n",
    "      ]\n",
    "    )\n",
    "\n",
    "pipelineModel = pipeline.fit(trainDataset)\n",
    "\n",
    "!cat ~/annotator_logs/SentimentDLApproach_12faa854e3b3.log"
   ]
  },
  {
   "cell_type": "code",
   "execution_count": null,
   "id": "8717c8cc-94d4-43b0-ad8e-e37a5bf060d8",
   "metadata": {
    "tags": []
   },
   "outputs": [],
   "source": [
    "spark.stop()"
   ]
  },
  {
   "cell_type": "code",
   "execution_count": null,
   "id": "c53adf84-08f0-4269-922f-af31a169db6c",
   "metadata": {},
   "outputs": [],
   "source": []
  }
 ],
 "metadata": {
  "kernelspec": {
   "display_name": "Python 3 (ipykernel)",
   "language": "python",
   "name": "python3"
  },
  "language_info": {
   "codemirror_mode": {
    "name": "ipython",
    "version": 3
   },
   "file_extension": ".py",
   "mimetype": "text/x-python",
   "name": "python",
   "nbconvert_exporter": "python",
   "pygments_lexer": "ipython3",
   "version": "3.11.4"
  }
 },
 "nbformat": 4,
 "nbformat_minor": 5
}
