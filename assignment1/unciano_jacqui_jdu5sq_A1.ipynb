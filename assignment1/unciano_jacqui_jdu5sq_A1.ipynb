{
 "cells": [
  {
   "cell_type": "code",
   "execution_count": 1,
   "id": "ccf3af28-0876-4a08-97a6-abb3b827f5f0",
   "metadata": {},
   "outputs": [],
   "source": [
    "\"\"\"\n",
    "This is a skeleton of Assignment 1 for DS5110/CS5501 Spring 2024 (UVA).\n",
    "NOTE you will need to change the .ipynb file name by following the naming convention.\n",
    "Code should be commented well. \n",
    "Feel free to import any missing packages or add extra cells as you see fit. \n",
    "\"\"\"\n",
    "import dask\n",
    "from dask.distributed import Client\n",
    "import dask.dataframe as dd\n",
    "import time\n",
    "import json\n",
    "import numpy as np"
   ]
  },
  {
   "cell_type": "code",
   "execution_count": 2,
   "id": "e7052a95-e1ac-45f2-8db4-b86fff29de96",
   "metadata": {},
   "outputs": [
    {
     "name": "stdout",
     "output_type": "stream",
     "text": [
      "<Client: 'tcp://172.31.75.157:8786' processes=0 threads=0, memory=0 B>\n"
     ]
    }
   ],
   "source": [
    "# TODO: fill out the private IP address of your Dask scheduler and port here when creating a Dask client object\n",
    "private_s = \"172.31.75.157\"\n",
    "client = Client(f'{private_s}:8786')\n",
    "client = client.restart()\n",
    "print(client)"
   ]
  },
  {
   "cell_type": "code",
   "execution_count": 3,
   "id": "bbf9080f-6152-4e9b-a26c-6938127492ac",
   "metadata": {},
   "outputs": [
    {
     "name": "stdout",
     "output_type": "stream",
     "text": [
      "CPU times: user 575 ms, sys: 3.37 s, total: 3.94 s\n",
      "Wall time: 13.2 s\n"
     ]
    }
   ],
   "source": [
    "%%time\n",
    "\n",
    "# You should have already extracted the two .CSV files from stackoverflow.zip\n",
    "# Load the .CSV files into the Dask dataframes\n",
    "questions = dd.read_csv('/home/ubuntu/questions.csv', sample=2**30, assume_missing=True)\n",
    "question_tags = dd.read_csv('/home/ubuntu/question_tags.csv', sample=2**30, assume_missing=True)"
   ]
  },
  {
   "cell_type": "markdown",
   "id": "00547cab-4375-4361-a83d-fd0f02981300",
   "metadata": {},
   "source": [
    "**Task 1.** Get the percentage of missing values for all the columns in the questions table and the question_tags table."
   ]
  },
  {
   "cell_type": "code",
   "execution_count": 4,
   "id": "cee1f11d-5734-4bff-af36-7a205155eb74",
   "metadata": {},
   "outputs": [
    {
     "name": "stdout",
     "output_type": "stream",
     "text": [
      "Id               0.000000\n",
      "CreationDate     0.000000\n",
      "ClosedDate      89.973578\n",
      "DeletionDate    76.962907\n",
      "Score            0.000000\n",
      "OwnerUserId     23.920885\n",
      "AnswerCount     10.114036\n",
      "dtype: float64\n",
      "Id     0.000000\n",
      "Tag    0.027501\n",
      "dtype: float64\n",
      "CPU times: user 116 ms, sys: 0 ns, total: 116 ms\n",
      "Wall time: 30.4 s\n"
     ]
    }
   ],
   "source": [
    "%%time\n",
    "# Task 1\n",
    "# TODO: Start your implementation below this line\n",
    "print(questions.isnull().mean().compute()*100)\n",
    "print(question_tags.isnull().mean().compute()*100)"
   ]
  },
  {
   "cell_type": "markdown",
   "id": "f22fffe2-beb8-4580-857a-145b1adbe62f",
   "metadata": {},
   "source": [
    "**Task 2.** Get mean, standard deviation, medium, min, and max of the Score column in the questions table."
   ]
  },
  {
   "cell_type": "code",
   "execution_count": 5,
   "id": "243c58de-758c-4cad-8103-0df07fe72681",
   "metadata": {
    "scrolled": true
   },
   "outputs": [
    {
     "name": "stdout",
     "output_type": "stream",
     "text": [
      "CPU times: user 84.6 ms, sys: 8.39 ms, total: 93 ms\n",
      "Wall time: 15 s\n"
     ]
    },
    {
     "data": {
      "text/plain": [
       "count    1.720382e+07\n",
       "mean     1.204167e+00\n",
       "std      1.564574e+01\n",
       "min     -1.540000e+02\n",
       "25%      0.000000e+00\n",
       "50%      1.000000e+00\n",
       "75%      4.000000e+00\n",
       "max      1.690200e+04\n",
       "Name: Score, dtype: float64"
      ]
     },
     "execution_count": 5,
     "metadata": {},
     "output_type": "execute_result"
    }
   ],
   "source": [
    "%%time\n",
    "# Task 2\n",
    "# TODO: Start your implementation below this line\n",
    "questions.Score.describe().compute()"
   ]
  },
  {
   "cell_type": "markdown",
   "id": "c96b62aa-ab7e-406e-9334-f44f28b9b4fb",
   "metadata": {},
   "source": [
    "**Task 3.** Get the top 5 tags that have the highest number of questions (hint: manipulate the question_tags table)."
   ]
  },
  {
   "cell_type": "code",
   "execution_count": 6,
   "id": "3707f87a-41d6-49ba-9d50-23e7b3039dbe",
   "metadata": {
    "scrolled": true
   },
   "outputs": [
    {
     "name": "stdout",
     "output_type": "stream",
     "text": [
      "CPU times: user 26.5 ms, sys: 0 ns, total: 26.5 ms\n",
      "Wall time: 11.1 s\n"
     ]
    },
    {
     "data": {
      "text/plain": [
       "Tag\n",
       "javascript    1649631\n",
       "java          1563820\n",
       "php           1365600\n",
       "c#            1321027\n",
       "android       1288338\n",
       "Name: count, dtype: int64[pyarrow]"
      ]
     },
     "execution_count": 6,
     "metadata": {},
     "output_type": "execute_result"
    }
   ],
   "source": [
    "%%time\n",
    "# Task 3\n",
    "# TODO: Start your implementation below this line\n",
    "question_tags.Tag.value_counts().nlargest(5).compute()"
   ]
  },
  {
   "cell_type": "markdown",
   "id": "4234497b-58a3-40a3-8eab-8d69db2a2bce",
   "metadata": {},
   "source": [
    "**Task 4.** Check if there are any dangling references to the question Id field from the questions table to question_tags table. Return 1 if there are dangling references; return 0 otherwise."
   ]
  },
  {
   "cell_type": "code",
   "execution_count": 7,
   "id": "ecc2dc12-f472-46df-a076-f7d10eff3350",
   "metadata": {},
   "outputs": [
    {
     "name": "stdout",
     "output_type": "stream",
     "text": [
      "0\n",
      "CPU times: user 9.88 s, sys: 2.32 s, total: 12.2 s\n",
      "Wall time: 58.5 s\n"
     ]
    }
   ],
   "source": [
    "%%time\n",
    "# Task 4\n",
    "# TODO: Start your implementation below this line\n",
    "dang = len(set(questions.Id.unique().compute())-set(question_tags.Id.unique().compute()))\n",
    "if dang>0:\n",
    "    print(1)\n",
    "else:\n",
    "    print(0)"
   ]
  },
  {
   "cell_type": "markdown",
   "id": "2cf4302d-9172-4347-b1af-585c26dc8a05",
   "metadata": {},
   "source": [
    "**Task 5.** Create a new owner user table based on the questions table grouped by the OwnerUserId field. Refer to this link for Dask’s groupby operator. Refer to this link to see how to use Dask’s groupby.agg operator to apply multiple functions to different columns of the re-grouped dataframe. The new table should have the following fields: (1) OwnerUserId: the field that the table is grouped by; (2) AverageScore: aggregated by getting the average score value of the owner user; (3) NumQuestions: aggregated by getting count value of the Id field of corresponding owner users; (4) NumAnswers: aggregated by getting the sum value of the AnswerCount field of corresponding owner users. See the schema table with the corresponding aggregation functions as follows: (refer to class page)\n",
    "\n",
    "In Task 5, you should output the top 5 owner users who asked the most number of questions."
   ]
  },
  {
   "cell_type": "code",
   "execution_count": 8,
   "id": "707364cd-4886-4daa-88cb-3714f8cadddc",
   "metadata": {},
   "outputs": [
    {
     "name": "stdout",
     "output_type": "stream",
     "text": [
      "CPU times: user 58.8 ms, sys: 10.8 ms, total: 69.6 ms\n",
      "Wall time: 19.5 s\n"
     ]
    },
    {
     "data": {
      "text/plain": [
       "OwnerUserId\n",
       "875317.0    2230\n",
       "39677.0     2128\n",
       "4653.0      1822\n",
       "34537.0     1680\n",
       "179736.0    1516\n",
       "Name: NumQuestions, dtype: int64"
      ]
     },
     "execution_count": 8,
     "metadata": {},
     "output_type": "execute_result"
    }
   ],
   "source": [
    "%%time\n",
    "# Task 5\n",
    "# TODO: Start your implementation below this line\n",
    "owner = questions.groupby(\"OwnerUserId\")\\\n",
    ".agg({\"Score\":\"mean\", \"Id\":\"count\", \"AnswerCount\":\"sum\"})\\\n",
    ".rename(columns={\"Score\":\"AverageScore\", \"Id\":\"NumQuestions\", \"AnswerCount\":\"NumAnswers\"})\n",
    "owner.NumQuestions.nlargest(5).compute()"
   ]
  },
  {
   "cell_type": "markdown",
   "id": "8275a43c-4ca9-44d4-8ec7-b74a51a72c60",
   "metadata": {},
   "source": [
    "**Task 6.** Create a new table by merging the questions table and the question_tags table using Id as the index. Then group the new table by Tag with the following aggregated fields: (1) Tag: the field that the table is grouped by; (2) AverageScore: aggregated by getting the average score value of the corresponding tags; (3) NumAnswers: aggregated by getting the sum value of the AnswerCount field of corresponding tags; (4) NumQuestions: aggregated by getting the count value of the Id field of corresponding tags; and (5) NumOwners: aggregated by getting the count value of the OwnerUserId field of corresponding tags. The schemas are listed as follows: (refer to class page)\n",
    "\n",
    "This task should output the top 5 tags with the highest number of questions and the top 5 tags with the highest number of answers received."
   ]
  },
  {
   "cell_type": "code",
   "execution_count": 9,
   "id": "4ed288fa-c22b-4c38-a77c-b68785ddd8a3",
   "metadata": {},
   "outputs": [
    {
     "name": "stdout",
     "output_type": "stream",
     "text": [
      "Tag\n",
      "javascript    1649631\n",
      "java          1563820\n",
      "php           1365600\n",
      "c#            1321027\n",
      "android       1288338\n",
      "Name: NumQuestions, dtype: int64\n",
      "Tag\n",
      "javascript    2252471.0\n",
      "java          2194354.0\n",
      "c#            1937822.0\n",
      "php           1855546.0\n",
      "jquery        1462029.0\n",
      "Name: NumAnswers, dtype: float64\n",
      "CPU times: user 250 ms, sys: 20.2 ms, total: 270 ms\n",
      "Wall time: 1min 57s\n"
     ]
    }
   ],
   "source": [
    "%%time\n",
    "# Task 6\n",
    "# TODO: Start your implementation below this line\n",
    "merged_df = questions.merge(question_tags, how=\"right\", on=\"Id\")\n",
    "tag = merged_df.groupby(\"Tag\")\\\n",
    ".agg({\"Score\": \"mean\", \"AnswerCount\":\"sum\", \"Id\":\"count\", \"OwnerUserId\":\"count\"})\\\n",
    ".rename(columns={\"Score\":\"AverageScore\", \"AnswerCount\":\"NumAnswers\", \"Id\":\"NumQuestions\", \"OwnerId\":\"NumOwners\"})\n",
    "print(tag.NumQuestions.nlargest(5).compute())\n",
    "print(tag.NumAnswers.nlargest(5).compute())"
   ]
  },
  {
   "cell_type": "markdown",
   "id": "5bf5e40b-9eb4-4261-ad6a-c9505601533c",
   "metadata": {},
   "source": [
    "**Task 7.** Kill the third and fourth Dask worker on vm3 by using ^C (Control+C). Dask scheduler should be able to transparently detect worker failures and will use the only two workers that are left for upcoming computations. Repeat Task 5 using only two Dask workers (running on vm2) and report the execution time of Task 7. Compare it with the execution time you saw from Task 5 and present your reasoning about why the execution time increases or decreases."
   ]
  },
  {
   "cell_type": "code",
   "execution_count": 14,
   "id": "d45b45a5-eaa7-4fa8-b1f2-231e938e43fc",
   "metadata": {},
   "outputs": [
    {
     "name": "stdout",
     "output_type": "stream",
     "text": [
      "CPU times: user 55.2 ms, sys: 0 ns, total: 55.2 ms\n",
      "Wall time: 32.1 s\n"
     ]
    },
    {
     "data": {
      "text/plain": [
       "OwnerUserId\n",
       "875317.0    2230\n",
       "39677.0     2128\n",
       "4653.0      1822\n",
       "34537.0     1680\n",
       "179736.0    1516\n",
       "Name: NumQuestions, dtype: int64"
      ]
     },
     "execution_count": 14,
     "metadata": {},
     "output_type": "execute_result"
    }
   ],
   "source": [
    "%%time\n",
    "# Task 7: kill the third and fourth worker and repeat Task 5 with two workers \n",
    "# TODO: Start your implementation below this line\n",
    "owner = questions.groupby(\"OwnerUserId\")\\\n",
    ".agg({\"Score\":\"mean\", \"Id\":\"count\", \"AnswerCount\":\"sum\"})\\\n",
    ".rename(columns={\"Score\":\"AverageScore\", \"Id\":\"NumQuestions\", \"AnswerCount\":\"NumAnswers\"})\n",
    "owner.NumQuestions.nlargest(5).compute()"
   ]
  },
  {
   "cell_type": "code",
   "execution_count": 11,
   "id": "5997c48e-43e6-45c2-a4b7-a71a75306787",
   "metadata": {},
   "outputs": [],
   "source": [
    "# Add report for Task 7"
   ]
  },
  {
   "cell_type": "markdown",
   "id": "d6b6ffc6-ee0a-42a8-a7dd-26b5b9955d98",
   "metadata": {},
   "source": [
    "**Answer 7** The time for question 5 with 4 workers took 19.5s while the time for question 5 with 2 workers took 32.1s. I think this is because the tasks of computing the mean, count, and sum could be distributed between the 4 workers so that it could be computed at the same time (more parallelism). But since the second time, there was only 2 workers, one of the workers needed to do two tasks, which increased the execution time."
   ]
  },
  {
   "cell_type": "markdown",
   "id": "95839eef-c2e2-432f-aa5f-651994db9b32",
   "metadata": {},
   "source": [
    "**Task 8.** Kill the third and fourth Dask worker on vm3 by using ^C (Control+C). Dask scheduler should be able to transparently detect worker failures and will use the only two workers that are left for upcoming computations. Repeat Task 6 using only two Dask workers (running on vm2) and report the execution time of Task 8. Compare it with the execution time you saw from Task 6 and present your reasoning about why the execution time increases or decreases."
   ]
  },
  {
   "cell_type": "code",
   "execution_count": 15,
   "id": "51817646-5154-4967-8f64-7b4d8fc32417",
   "metadata": {},
   "outputs": [
    {
     "name": "stdout",
     "output_type": "stream",
     "text": [
      "Tag\n",
      "javascript    1649631\n",
      "java          1563820\n",
      "php           1365600\n",
      "c#            1321027\n",
      "android       1288338\n",
      "Name: NumQuestions, dtype: int64\n",
      "Tag\n",
      "javascript    2252471.0\n",
      "java          2194354.0\n",
      "c#            1937822.0\n",
      "php           1855546.0\n",
      "jquery        1462029.0\n",
      "Name: NumAnswers, dtype: float64\n",
      "CPU times: user 312 ms, sys: 14.4 ms, total: 327 ms\n",
      "Wall time: 4min 2s\n"
     ]
    }
   ],
   "source": [
    "%%time\n",
    "# Task 8: kill the third and fourth worker and repeat Task 6 with two workers \n",
    "# TODO: Start your implementation below this line\n",
    "merged_df = questions.merge(question_tags, how=\"right\", on=\"Id\")\n",
    "tag = merged_df.groupby(\"Tag\")\\\n",
    ".agg({\"Score\": \"mean\", \"AnswerCount\":\"sum\", \"Id\":\"count\", \"OwnerUserId\":\"count\"})\\\n",
    ".rename(columns={\"Score\":\"AverageScore\", \"AnswerCount\":\"NumAnswers\", \"Id\":\"NumQuestions\", \"OwnerId\":\"NumOwners\"})\n",
    "print(tag.NumQuestions.nlargest(5).compute())\n",
    "print(tag.NumAnswers.nlargest(5).compute())"
   ]
  },
  {
   "cell_type": "code",
   "execution_count": 13,
   "id": "6cabc200-a5d0-4196-a53c-a2c55e006bbc",
   "metadata": {},
   "outputs": [],
   "source": [
    "# Add report for Task 8"
   ]
  },
  {
   "cell_type": "markdown",
   "id": "4025d2e6-cc5a-42b7-a291-deedceae5f22",
   "metadata": {},
   "source": [
    "**Answer 7** The time for question 6 with 4 workers took 1min 57s while the time for question 6 with 2 workers took 4min 2s. I believe this increase in execution time is due to the same reason mentioned above. The tasks of computing the mean, sum, and two counts were distributed between 2 workers instead of 4, which practically doubled the execution time."
   ]
  }
 ],
 "metadata": {
  "kernelspec": {
   "display_name": "Python 3 (ipykernel)",
   "language": "python",
   "name": "python3"
  },
  "language_info": {
   "codemirror_mode": {
    "name": "ipython",
    "version": 3
   },
   "file_extension": ".py",
   "mimetype": "text/x-python",
   "name": "python",
   "nbconvert_exporter": "python",
   "pygments_lexer": "ipython3",
   "version": "3.10.12"
  }
 },
 "nbformat": 4,
 "nbformat_minor": 5
}
